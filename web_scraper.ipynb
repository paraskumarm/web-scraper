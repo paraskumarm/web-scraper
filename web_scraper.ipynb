{
 "cells": [
  {
   "cell_type": "code",
   "execution_count": 1,
   "id": "17af698c",
   "metadata": {},
   "outputs": [],
   "source": [
    "import requests\n",
    "from bs4 import BeautifulSoup\n",
    "import numpy as np\n",
    "import pandas as pd\n",
    "import json\n",
    "import csv\n",
    "import sqlite3"
   ]
  },
  {
   "cell_type": "code",
   "execution_count": 2,
   "id": "d4022423",
   "metadata": {},
   "outputs": [],
   "source": [
    " URL='https://www.theverge.com'"
   ]
  },
  {
   "cell_type": "code",
   "execution_count": 3,
   "id": "5686943d",
   "metadata": {},
   "outputs": [],
   "source": [
    "HEADERS=({'User-Agent':'Mozilla/5.0 (Macintosh; Intel Mac OS X 10_15_7) AppleWebKit/605.1.15 (KHTML, like Gecko) Version/16.2 Safari/605.1.15','Accept-Language':'en-US,en;q=0.5'})"
   ]
  },
  {
   "cell_type": "code",
   "execution_count": 4,
   "id": "1a0ff248",
   "metadata": {},
   "outputs": [],
   "source": [
    "webpage=requests.get(URL,headers=HEADERS)"
   ]
  },
  {
   "cell_type": "code",
   "execution_count": 5,
   "id": "39c48f64",
   "metadata": {},
   "outputs": [
    {
     "name": "stdout",
     "output_type": "stream",
     "text": [
      "<Response [200]>\n"
     ]
    }
   ],
   "source": [
    "print(webpage)"
   ]
  },
  {
   "cell_type": "code",
   "execution_count": 6,
   "id": "7e17f52f",
   "metadata": {},
   "outputs": [],
   "source": [
    "soup = BeautifulSoup(webpage.content, 'html.parser')"
   ]
  },
  {
   "cell_type": "code",
   "execution_count": 7,
   "id": "3fc36cec",
   "metadata": {},
   "outputs": [],
   "source": [
    "data_from_script_tag=soup.find(\"script\",id=\"__NEXT_DATA__\")"
   ]
  },
  {
   "cell_type": "code",
   "execution_count": 8,
   "id": "98f4f43e",
   "metadata": {},
   "outputs": [],
   "source": [
    "jsondata=json.loads(data_from_script_tag.contents[0])"
   ]
  },
  {
   "cell_type": "code",
   "execution_count": 9,
   "id": "46a1846f",
   "metadata": {},
   "outputs": [],
   "source": [
    "data_list=(jsondata['props']['pageProps']['hydration']['responses'][0]['data']['community']['frontPage']['placements'])"
   ]
  },
  {
   "cell_type": "code",
   "execution_count": 10,
   "id": "0c1c7667",
   "metadata": {},
   "outputs": [],
   "source": [
    "data_csv={\"uid\":[],\"title\":[],\"author\":[],\"url\":[],\"publishDate\":[]}"
   ]
  },
  {
   "cell_type": "code",
   "execution_count": 11,
   "id": "b4625eff",
   "metadata": {},
   "outputs": [],
   "source": [
    "\n",
    "for i in range (0,len(data_list)):\n",
    "    if(data_list[i]['placeable']!=None):\n",
    "        uid=data_list[i]['placeable']['uid'][6:]\n",
    "        title=data_list[i]['placeable']['title']\n",
    "        author=data_list[i]['placeable']['author']['fullName']\n",
    "        publishDate=data_list[i]['placeable']['publishDate']\n",
    "        url=data_list[i]['placeable']['url']\n",
    "        data_csv['uid'].append(uid)\n",
    "        data_csv['title'].append(title)\n",
    "        data_csv['author'].append(author)\n",
    "        data_csv['url'].append(url)\n",
    "        data_csv['publishDate'].append(publishDate)"
   ]
  },
  {
   "cell_type": "code",
   "execution_count": 12,
   "id": "f227eaa6",
   "metadata": {},
   "outputs": [
    {
     "ename": "NameError",
     "evalue": "name 'd' is not defined",
     "output_type": "error",
     "traceback": [
      "\u001b[0;31m---------------------------------------------------------------------------\u001b[0m",
      "\u001b[0;31mNameError\u001b[0m                                 Traceback (most recent call last)",
      "Input \u001b[0;32mIn [12]\u001b[0m, in \u001b[0;36m<cell line: 1>\u001b[0;34m()\u001b[0m\n\u001b[0;32m----> 1\u001b[0m data_frame\u001b[38;5;241m=\u001b[39mpd\u001b[38;5;241m.\u001b[39mDataFrame\u001b[38;5;241m.\u001b[39mfrom_dict(\u001b[43md\u001b[49m)\n",
      "\u001b[0;31mNameError\u001b[0m: name 'd' is not defined"
     ]
    }
   ],
   "source": [
    "data_frame=pd.DataFrame.from_dict(data_csv)"
   ]
  },
  {
   "cell_type": "code",
   "execution_count": null,
   "id": "f19ba0ad",
   "metadata": {},
   "outputs": [],
   "source": [
    "data_frame.to_csv('16042023_verge.csv')"
   ]
  },
  {
   "cell_type": "code",
   "execution_count": null,
   "id": "57333577",
   "metadata": {},
   "outputs": [],
   "source": [
    "data_frame"
   ]
  },
  {
   "cell_type": "code",
   "execution_count": null,
   "id": "4205d8a3",
   "metadata": {},
   "outputs": [],
   "source": [
    "sqliteConnection = sqlite3.connect('db.sqlite3')\n",
    "cursor = sqliteConnection.cursor()"
   ]
  },
  {
   "cell_type": "code",
   "execution_count": null,
   "id": "cfa1fcc6",
   "metadata": {},
   "outputs": [],
   "source": [
    "cursor.execute(\n",
    "    '''CREATE TABLE TheVerge (\n",
    "        ID CHAR(50) PRIMARY KEY     NOT NULL, \n",
    "       Headlines           TEXT    NOT NULL, \n",
    "       Author            CHAR(50)     NOT NULL, \n",
    "       url        CHAR(50), \n",
    "       date         CHAR(50)\n",
    "    );'''\n",
    ")  "
   ]
  },
  {
   "cell_type": "code",
   "execution_count": null,
   "id": "0b78b094",
   "metadata": {},
   "outputs": [],
   "source": [
    "\n",
    "  \n",
    "# Open file \n",
    "with open('data.csv') as file_obj:\n",
    "      \n",
    "    # Create reader object by passing the file \n",
    "    # object to reader method\n",
    "    reader_obj = csv.reader(file_obj)\n",
    "    \n",
    "    # Iterate over each row in the csv \n",
    "    # file using reader object\n",
    "    for row in reader_obj:\n",
    "        if(row[1]=='uid'):#not reading first row\n",
    "            pass\n",
    "        uid=row[1]\n",
    "        headlines=row[2]\n",
    "        author=row[3]\n",
    "        url=row[4]\n",
    "        publishDate=row[5]\n",
    "        print(uid)\n",
    "        cursor.execute(\"insert into theverge (id, Headlines, author,url,date) values (?, ?, ?, ?, ?)\",\n",
    "            (uid, headlines, author,url,publishDate))\n",
    "        "
   ]
  },
  {
   "cell_type": "code",
   "execution_count": null,
   "id": "0317161c",
   "metadata": {},
   "outputs": [],
   "source": [
    "# Commit your changes in the database    \n",
    "sqliteConnection.commit()\n",
    "  \n",
    "# Closing the connection\n",
    "sqliteConnection.close()"
   ]
  },
  {
   "cell_type": "code",
   "execution_count": null,
   "id": "e56eecce",
   "metadata": {},
   "outputs": [],
   "source": []
  }
 ],
 "metadata": {
  "kernelspec": {
   "display_name": "Python 3 (ipykernel)",
   "language": "python",
   "name": "python3"
  },
  "language_info": {
   "codemirror_mode": {
    "name": "ipython",
    "version": 3
   },
   "file_extension": ".py",
   "mimetype": "text/x-python",
   "name": "python",
   "nbconvert_exporter": "python",
   "pygments_lexer": "ipython3",
   "version": "3.9.12"
  }
 },
 "nbformat": 4,
 "nbformat_minor": 5
}
